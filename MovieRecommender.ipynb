{
 "cells": [
  {
   "cell_type": "markdown",
   "id": "92c01bfe-9ead-4e12-8f07-af460928ffec",
   "metadata": {
    "jp-MarkdownHeadingCollapsed": true
   },
   "source": [
    "# K-NN Recommendation System"
   ]
  },
  {
   "cell_type": "code",
   "execution_count": 1,
   "id": "63324ec2-654d-4a39-a296-98add171cb6a",
   "metadata": {},
   "outputs": [],
   "source": [
    "# Package pre-requisites\n",
    "import pandas as pd\n",
    "import numpy as np\n",
    "import seaborn as sns\n",
    "import matplotlib.pyplot as plt"
   ]
  },
  {
   "cell_type": "markdown",
   "id": "26566798-f64a-441d-8d48-ed58de711f6b",
   "metadata": {},
   "source": [
    "# Intro\n"
   ]
  },
  {
   "cell_type": "markdown",
   "id": "1e9d9d82-e92e-484d-b4b6-58b12822b922",
   "metadata": {
    "jp-MarkdownHeadingCollapsed": true
   },
   "source": [
    "In this project, I'll be building a recommendation system for a theoretical streaming service. While there are many different ways that this task can be done, I'll be focusing on implementing a K-Nearest Neighbors (KNN) algorithm. This will allow the theoretical streaming service to give recommendations for what a subject user should watch by using the ratings given by similar users to predict what the subject will rate a film they haven't seen yet.\n",
    "## Purpose\n",
    "A good algorithm is the heart of any modern content service. Whether it's short form video on platforms like Tik-Tok, music on a platform like Spotify, or TV and film on a platform like Netflix, a streaming service's job is to not just be the 'library' where users can find content, but to also be the 'librarian' who will actively help them find the content they may be interested in. A service that keeps users coming back will be one that knows what a user will enjoy *before* the user does. Where Blockbuster and other brick and mortar stores may have had film buffs working behind the counter who could recommend cult-classics and help customers discover new media, streaming services must rely on recommendation systems. With the large amount of user data available to a streaming service, especially with features such as user-ratings, we have all we need to understand each viewer's unique tastes. Giving a steady stream of good recommendations is key to continued user engagement, thus the success of any content platform begins with a good recommendation system. \n",
    "\n",
    "## Methodology\n",
    "I'll be creating a K-Nearest Neighbors based system for our purposes here. In essence, we identify users with similar tastes to the subject user by finding their \"distance\" in a mathematical space where the user's rating for each film becomes one of the co-ordinates. Once we have identified those similar users, we determine what films they have seen which the subject user has not. By averaging the ratings of the similar users, we can predict what the subject will rate those unseen films, thus allowing us to sort the predicted results from highest to lowest rating, creating a list of top recommendations."
   ]
  },
  {
   "cell_type": "markdown",
   "id": "5b226a5b-fbe6-4a87-904d-48e135136e78",
   "metadata": {},
   "source": [
    "# Data Overview"
   ]
  },
  {
   "cell_type": "markdown",
   "id": "09218433-654e-42b9-b1e9-a1f9b11d9689",
   "metadata": {},
   "source": [
    "For this project, I'll be working with the MovieLens Small Dataset. Since this is essentially intended to be a practice project, the small dataset is sufficiently large to demonstrate the relevant techniques, without being so large that operations will take significant amounts of time or processing power."
   ]
  },
  {
   "cell_type": "markdown",
   "id": "c34d1640-5183-4c9f-955d-14bd01ee163e",
   "metadata": {},
   "source": [
    "## Importing Data"
   ]
  },
  {
   "cell_type": "code",
   "execution_count": 2,
   "id": "08def2fb-55ae-49fa-a55d-7436a6e2a89f",
   "metadata": {},
   "outputs": [
    {
     "data": {
      "text/html": [
       "<div>\n",
       "<style scoped>\n",
       "    .dataframe tbody tr th:only-of-type {\n",
       "        vertical-align: middle;\n",
       "    }\n",
       "\n",
       "    .dataframe tbody tr th {\n",
       "        vertical-align: top;\n",
       "    }\n",
       "\n",
       "    .dataframe thead th {\n",
       "        text-align: right;\n",
       "    }\n",
       "</style>\n",
       "<table border=\"1\" class=\"dataframe\">\n",
       "  <thead>\n",
       "    <tr style=\"text-align: right;\">\n",
       "      <th></th>\n",
       "      <th>movieId</th>\n",
       "      <th>title</th>\n",
       "      <th>genres</th>\n",
       "    </tr>\n",
       "  </thead>\n",
       "  <tbody>\n",
       "    <tr>\n",
       "      <th>0</th>\n",
       "      <td>1</td>\n",
       "      <td>Toy Story (1995)</td>\n",
       "      <td>Adventure|Animation|Children|Comedy|Fantasy</td>\n",
       "    </tr>\n",
       "    <tr>\n",
       "      <th>1</th>\n",
       "      <td>2</td>\n",
       "      <td>Jumanji (1995)</td>\n",
       "      <td>Adventure|Children|Fantasy</td>\n",
       "    </tr>\n",
       "    <tr>\n",
       "      <th>2</th>\n",
       "      <td>3</td>\n",
       "      <td>Grumpier Old Men (1995)</td>\n",
       "      <td>Comedy|Romance</td>\n",
       "    </tr>\n",
       "    <tr>\n",
       "      <th>3</th>\n",
       "      <td>4</td>\n",
       "      <td>Waiting to Exhale (1995)</td>\n",
       "      <td>Comedy|Drama|Romance</td>\n",
       "    </tr>\n",
       "    <tr>\n",
       "      <th>4</th>\n",
       "      <td>5</td>\n",
       "      <td>Father of the Bride Part II (1995)</td>\n",
       "      <td>Comedy</td>\n",
       "    </tr>\n",
       "  </tbody>\n",
       "</table>\n",
       "</div>"
      ],
      "text/plain": [
       "   movieId                               title  \\\n",
       "0        1                    Toy Story (1995)   \n",
       "1        2                      Jumanji (1995)   \n",
       "2        3             Grumpier Old Men (1995)   \n",
       "3        4            Waiting to Exhale (1995)   \n",
       "4        5  Father of the Bride Part II (1995)   \n",
       "\n",
       "                                        genres  \n",
       "0  Adventure|Animation|Children|Comedy|Fantasy  \n",
       "1                   Adventure|Children|Fantasy  \n",
       "2                               Comedy|Romance  \n",
       "3                         Comedy|Drama|Romance  \n",
       "4                                       Comedy  "
      ]
     },
     "execution_count": 2,
     "metadata": {},
     "output_type": "execute_result"
    }
   ],
   "source": [
    "movies_df = pd.read_csv(\"movies.csv\")\n",
    "movies_df.head()"
   ]
  },
  {
   "cell_type": "code",
   "execution_count": 3,
   "id": "14dfeb70-5060-4575-914c-ebe9803cae77",
   "metadata": {},
   "outputs": [
    {
     "data": {
      "text/html": [
       "<div>\n",
       "<style scoped>\n",
       "    .dataframe tbody tr th:only-of-type {\n",
       "        vertical-align: middle;\n",
       "    }\n",
       "\n",
       "    .dataframe tbody tr th {\n",
       "        vertical-align: top;\n",
       "    }\n",
       "\n",
       "    .dataframe thead th {\n",
       "        text-align: right;\n",
       "    }\n",
       "</style>\n",
       "<table border=\"1\" class=\"dataframe\">\n",
       "  <thead>\n",
       "    <tr style=\"text-align: right;\">\n",
       "      <th></th>\n",
       "      <th>userId</th>\n",
       "      <th>movieId</th>\n",
       "      <th>rating</th>\n",
       "      <th>timestamp</th>\n",
       "    </tr>\n",
       "  </thead>\n",
       "  <tbody>\n",
       "    <tr>\n",
       "      <th>0</th>\n",
       "      <td>1</td>\n",
       "      <td>1</td>\n",
       "      <td>4.0</td>\n",
       "      <td>964982703</td>\n",
       "    </tr>\n",
       "    <tr>\n",
       "      <th>1</th>\n",
       "      <td>1</td>\n",
       "      <td>3</td>\n",
       "      <td>4.0</td>\n",
       "      <td>964981247</td>\n",
       "    </tr>\n",
       "    <tr>\n",
       "      <th>2</th>\n",
       "      <td>1</td>\n",
       "      <td>6</td>\n",
       "      <td>4.0</td>\n",
       "      <td>964982224</td>\n",
       "    </tr>\n",
       "    <tr>\n",
       "      <th>3</th>\n",
       "      <td>1</td>\n",
       "      <td>47</td>\n",
       "      <td>5.0</td>\n",
       "      <td>964983815</td>\n",
       "    </tr>\n",
       "    <tr>\n",
       "      <th>4</th>\n",
       "      <td>1</td>\n",
       "      <td>50</td>\n",
       "      <td>5.0</td>\n",
       "      <td>964982931</td>\n",
       "    </tr>\n",
       "  </tbody>\n",
       "</table>\n",
       "</div>"
      ],
      "text/plain": [
       "   userId  movieId  rating  timestamp\n",
       "0       1        1     4.0  964982703\n",
       "1       1        3     4.0  964981247\n",
       "2       1        6     4.0  964982224\n",
       "3       1       47     5.0  964983815\n",
       "4       1       50     5.0  964982931"
      ]
     },
     "execution_count": 3,
     "metadata": {},
     "output_type": "execute_result"
    }
   ],
   "source": [
    "ratings_df = pd.read_csv(\"ratings.csv\")\n",
    "ratings_df.head()"
   ]
  },
  {
   "cell_type": "markdown",
   "id": "1f06ffee-dbc6-471f-906a-49519a24dca7",
   "metadata": {},
   "source": [
    "## Exploring Data"
   ]
  },
  {
   "cell_type": "code",
   "execution_count": 4,
   "id": "60a8132a-83af-4458-a62c-a8fca3dcb81b",
   "metadata": {},
   "outputs": [
    {
     "name": "stdout",
     "output_type": "stream",
     "text": [
      "<class 'pandas.core.frame.DataFrame'>\n",
      "RangeIndex: 9742 entries, 0 to 9741\n",
      "Data columns (total 3 columns):\n",
      " #   Column   Non-Null Count  Dtype \n",
      "---  ------   --------------  ----- \n",
      " 0   movieId  9742 non-null   int64 \n",
      " 1   title    9742 non-null   object\n",
      " 2   genres   9742 non-null   object\n",
      "dtypes: int64(1), object(2)\n",
      "memory usage: 228.5+ KB\n"
     ]
    }
   ],
   "source": [
    "movies_df.info()"
   ]
  },
  {
   "cell_type": "code",
   "execution_count": 5,
   "id": "25cd714c-bbd6-496f-acca-a022bd57d203",
   "metadata": {},
   "outputs": [
    {
     "name": "stdout",
     "output_type": "stream",
     "text": [
      "<class 'pandas.core.frame.DataFrame'>\n",
      "RangeIndex: 100836 entries, 0 to 100835\n",
      "Data columns (total 4 columns):\n",
      " #   Column     Non-Null Count   Dtype  \n",
      "---  ------     --------------   -----  \n",
      " 0   userId     100836 non-null  int64  \n",
      " 1   movieId    100836 non-null  int64  \n",
      " 2   rating     100836 non-null  float64\n",
      " 3   timestamp  100836 non-null  int64  \n",
      "dtypes: float64(1), int64(3)\n",
      "memory usage: 3.1 MB\n"
     ]
    }
   ],
   "source": [
    "ratings_df.info()"
   ]
  },
  {
   "cell_type": "markdown",
   "id": "fc44a854-6569-4942-9ebe-38f4b5583104",
   "metadata": {},
   "source": [
    "We can immediately see that both datasets are complete (ie. no missing values). Additionally, the datatype of each column is correct."
   ]
  },
  {
   "cell_type": "code",
   "execution_count": 6,
   "id": "9bf30333-7f73-4117-b83a-ab97e58460e1",
   "metadata": {},
   "outputs": [
    {
     "data": {
      "image/png": "[encoded data removed]",
      "text/plain": [
       "<Figure size 640x480 with 1 Axes>"
      ]
     },
     "metadata": {},
     "output_type": "display_data"
    }
   ],
   "source": [
    "sns.histplot(x=\"rating\",data=ratings_df)\n",
    "plt.title(\"Distribution of Ratings\")\n",
    "plt.show()"
   ]
  },
  {
   "cell_type": "markdown",
   "id": "8fa3bf50-ed09-4165-a054-6c1aba51c667",
   "metadata": {},
   "source": [
    "Looking at the histogram of ratings, we can see that the distribution is discrete, only having half-step values (unsurprising for a star-based rating system). The results are fairly unsurprising; most movies are rated 3 or 4 stars, suggesting that the users who rated them were adequately entertained or moderately impressed. The distribution is left-skewed, with 4 stars being the most common rating. I'll point out that this dataset may be subject to several forms of bias, assuming that rating a movie is voluntary. This bias does not pose a problem for our purposes here, however. Passionate users may feel compelled to rate a film that they really enjoyed, but indifferent or bored users are more likely to not rate a film at all. Since we're not trying to create any kind of objective measure of \"quality\", but rather trying to predict the tastes of users, we can expect that the same biases will be present in the subject user's opinion on a film."
   ]
  },
  {
   "cell_type": "markdown",
   "id": "c6d89af2-c71f-4ec7-baff-7e67432fc7ce",
   "metadata": {},
   "source": [
    "## Data Cleaning"
   ]
  },
  {
   "cell_type": "markdown",
   "id": "a5c65b85-1a65-401a-8766-ae20551af4e6",
   "metadata": {},
   "source": [
    "Tasks:\n",
    "- Drop unnecessary columns. Rating and timestamp will not be used in our system.\n",
    "- Index dataframes by movieId to allow easier referencing.\n",
    "- Add a \"total ratings\" column to the ratings dataframe\n",
    "- Determine the average rating for each film in the database and add that as a new column to the movies dataframe"
   ]
  },
  {
   "cell_type": "code",
   "execution_count": 7,
   "id": "108c7878-caf5-489f-9826-c9322f82e8cd",
   "metadata": {},
   "outputs": [],
   "source": [
    "# Drop unnecessary columns\n",
    "ratings_df.drop(\"timestamp\", axis = 1, inplace = True)\n",
    "movies_df.drop(\"genres\",axis=1,inplace=True)"
   ]
  },
  {
   "cell_type": "code",
   "execution_count": 8,
   "id": "799a7743-517d-4e59-a0cb-6f866639d59b",
   "metadata": {},
   "outputs": [
    {
     "data": {
      "text/html": [
       "<div>\n",
       "<style scoped>\n",
       "    .dataframe tbody tr th:only-of-type {\n",
       "        vertical-align: middle;\n",
       "    }\n",
       "\n",
       "    .dataframe tbody tr th {\n",
       "        vertical-align: top;\n",
       "    }\n",
       "\n",
       "    .dataframe thead th {\n",
       "        text-align: right;\n",
       "    }\n",
       "</style>\n",
       "<table border=\"1\" class=\"dataframe\">\n",
       "  <thead>\n",
       "    <tr style=\"text-align: right;\">\n",
       "      <th></th>\n",
       "      <th>title</th>\n",
       "    </tr>\n",
       "    <tr>\n",
       "      <th>movieId</th>\n",
       "      <th></th>\n",
       "    </tr>\n",
       "  </thead>\n",
       "  <tbody>\n",
       "    <tr>\n",
       "      <th>1</th>\n",
       "      <td>Toy Story (1995)</td>\n",
       "    </tr>\n",
       "    <tr>\n",
       "      <th>2</th>\n",
       "      <td>Jumanji (1995)</td>\n",
       "    </tr>\n",
       "    <tr>\n",
       "      <th>3</th>\n",
       "      <td>Grumpier Old Men (1995)</td>\n",
       "    </tr>\n",
       "    <tr>\n",
       "      <th>4</th>\n",
       "      <td>Waiting to Exhale (1995)</td>\n",
       "    </tr>\n",
       "    <tr>\n",
       "      <th>5</th>\n",
       "      <td>Father of the Bride Part II (1995)</td>\n",
       "    </tr>\n",
       "  </tbody>\n",
       "</table>\n",
       "</div>"
      ],
      "text/plain": [
       "                                      title\n",
       "movieId                                    \n",
       "1                          Toy Story (1995)\n",
       "2                            Jumanji (1995)\n",
       "3                   Grumpier Old Men (1995)\n",
       "4                  Waiting to Exhale (1995)\n",
       "5        Father of the Bride Part II (1995)"
      ]
     },
     "execution_count": 8,
     "metadata": {},
     "output_type": "execute_result"
    }
   ],
   "source": [
    "# Set ID to be the index\n",
    "movies_df.set_index(\"movieId\",inplace=True)\n",
    "movies_df.head()"
   ]
  },
  {
   "cell_type": "code",
   "execution_count": 9,
   "id": "d634a62e-240a-4b4a-af02-b2b853010b8b",
   "metadata": {},
   "outputs": [
    {
     "data": {
      "text/html": [
       "<div>\n",
       "<style scoped>\n",
       "    .dataframe tbody tr th:only-of-type {\n",
       "        vertical-align: middle;\n",
       "    }\n",
       "\n",
       "    .dataframe tbody tr th {\n",
       "        vertical-align: top;\n",
       "    }\n",
       "\n",
       "    .dataframe thead th {\n",
       "        text-align: right;\n",
       "    }\n",
       "</style>\n",
       "<table border=\"1\" class=\"dataframe\">\n",
       "  <thead>\n",
       "    <tr style=\"text-align: right;\">\n",
       "      <th></th>\n",
       "      <th>title</th>\n",
       "      <th>ratingsCount</th>\n",
       "    </tr>\n",
       "    <tr>\n",
       "      <th>movieId</th>\n",
       "      <th></th>\n",
       "      <th></th>\n",
       "    </tr>\n",
       "  </thead>\n",
       "  <tbody>\n",
       "    <tr>\n",
       "      <th>1</th>\n",
       "      <td>Toy Story (1995)</td>\n",
       "      <td>215.0</td>\n",
       "    </tr>\n",
       "    <tr>\n",
       "      <th>2</th>\n",
       "      <td>Jumanji (1995)</td>\n",
       "      <td>110.0</td>\n",
       "    </tr>\n",
       "    <tr>\n",
       "      <th>3</th>\n",
       "      <td>Grumpier Old Men (1995)</td>\n",
       "      <td>52.0</td>\n",
       "    </tr>\n",
       "    <tr>\n",
       "      <th>4</th>\n",
       "      <td>Waiting to Exhale (1995)</td>\n",
       "      <td>7.0</td>\n",
       "    </tr>\n",
       "    <tr>\n",
       "      <th>5</th>\n",
       "      <td>Father of the Bride Part II (1995)</td>\n",
       "      <td>49.0</td>\n",
       "    </tr>\n",
       "  </tbody>\n",
       "</table>\n",
       "</div>"
      ],
      "text/plain": [
       "                                      title  ratingsCount\n",
       "movieId                                                  \n",
       "1                          Toy Story (1995)         215.0\n",
       "2                            Jumanji (1995)         110.0\n",
       "3                   Grumpier Old Men (1995)          52.0\n",
       "4                  Waiting to Exhale (1995)           7.0\n",
       "5        Father of the Bride Part II (1995)          49.0"
      ]
     },
     "execution_count": 9,
     "metadata": {},
     "output_type": "execute_result"
    }
   ],
   "source": [
    "# Find the total number of ratings for each movie & assign to a new column\n",
    "total_counts = ratings_df[\"movieId\"].value_counts()\n",
    "movies_df[\"ratingsCount\"] = total_counts\n",
    "movies_df.head()"
   ]
  },
  {
   "cell_type": "code",
   "execution_count": 10,
   "id": "481565cd-21f8-4644-8a5f-609154086752",
   "metadata": {
    "jupyter": {
     "source_hidden": true
    }
   },
   "outputs": [
    {
     "data": {
      "text/html": [
       "<div>\n",
       "<style scoped>\n",
       "    .dataframe tbody tr th:only-of-type {\n",
       "        vertical-align: middle;\n",
       "    }\n",
       "\n",
       "    .dataframe tbody tr th {\n",
       "        vertical-align: top;\n",
       "    }\n",
       "\n",
       "    .dataframe thead th {\n",
       "        text-align: right;\n",
       "    }\n",
       "</style>\n",
       "<table border=\"1\" class=\"dataframe\">\n",
       "  <thead>\n",
       "    <tr style=\"text-align: right;\">\n",
       "      <th></th>\n",
       "      <th>title</th>\n",
       "      <th>ratingsCount</th>\n",
       "      <th>averageRating</th>\n",
       "    </tr>\n",
       "    <tr>\n",
       "      <th>movieId</th>\n",
       "      <th></th>\n",
       "      <th></th>\n",
       "      <th></th>\n",
       "    </tr>\n",
       "  </thead>\n",
       "  <tbody>\n",
       "    <tr>\n",
       "      <th>1</th>\n",
       "      <td>Toy Story (1995)</td>\n",
       "      <td>215.0</td>\n",
       "      <td>3.920930</td>\n",
       "    </tr>\n",
       "    <tr>\n",
       "      <th>2</th>\n",
       "      <td>Jumanji (1995)</td>\n",
       "      <td>110.0</td>\n",
       "      <td>3.431818</td>\n",
       "    </tr>\n",
       "    <tr>\n",
       "      <th>3</th>\n",
       "      <td>Grumpier Old Men (1995)</td>\n",
       "      <td>52.0</td>\n",
       "      <td>3.259615</td>\n",
       "    </tr>\n",
       "    <tr>\n",
       "      <th>4</th>\n",
       "      <td>Waiting to Exhale (1995)</td>\n",
       "      <td>7.0</td>\n",
       "      <td>2.357143</td>\n",
       "    </tr>\n",
       "    <tr>\n",
       "      <th>5</th>\n",
       "      <td>Father of the Bride Part II (1995)</td>\n",
       "      <td>49.0</td>\n",
       "      <td>3.071429</td>\n",
       "    </tr>\n",
       "  </tbody>\n",
       "</table>\n",
       "</div>"
      ],
      "text/plain": [
       "                                      title  ratingsCount  averageRating\n",
       "movieId                                                                 \n",
       "1                          Toy Story (1995)         215.0       3.920930\n",
       "2                            Jumanji (1995)         110.0       3.431818\n",
       "3                   Grumpier Old Men (1995)          52.0       3.259615\n",
       "4                  Waiting to Exhale (1995)           7.0       2.357143\n",
       "5        Father of the Bride Part II (1995)          49.0       3.071429"
      ]
     },
     "execution_count": 10,
     "metadata": {},
     "output_type": "execute_result"
    }
   ],
   "source": [
    "# Find average ratings and add corresponding column\n",
    "avg_ratings = ratings_df.groupby(\"movieId\").mean()[\"rating\"]\n",
    "movies_df[\"averageRating\"]=avg_ratings\n",
    "movies_df.head()"
   ]
  },
  {
   "cell_type": "markdown",
   "id": "2ba3c14a-a5b8-4df5-adb1-269b166efa9c",
   "metadata": {},
   "source": [
    "# Implementation"
   ]
  },
  {
   "cell_type": "markdown",
   "id": "aff3590e-42f8-47e9-a6a8-2990543c5188",
   "metadata": {},
   "source": [
    "## K-Nearest Neighbors"
   ]
  },
  {
   "cell_type": "markdown",
   "id": "c2d12bf8-fa3f-43d9-b0a9-1e236fd85f7d",
   "metadata": {},
   "source": [
    "A K-Nearest Neighbors recommendation system acts almost like an automated version of word of mouth. Rather than relying on professional ratings, or any kind of supervised learning, the idea is to cluster users based on taste, and use that to predict future ratings. The principle is that users who have enjoyed similar movies in the past will likely enjoy similar movies in the future."
   ]
  },
  {
   "cell_type": "markdown",
   "id": "8471f5a2-6900-491b-8275-ab962c4dd79a",
   "metadata": {},
   "source": [
    "## Finding ratings by userID"
   ]
  },
  {
   "cell_type": "code",
   "execution_count": 11,
   "id": "41e9dbc3-133d-4867-b727-517fab0b11f6",
   "metadata": {},
   "outputs": [],
   "source": [
    "# By passing in a userId, we receive a list of the movies they have rated, and what those ratings were\n",
    "def find_user_ratings(userId):\n",
    "    user_ratings = ratings_df.query(f\"userId=={userId}\")\n",
    "    return user_ratings[[\"movieId\",\"rating\"]].set_index(\"movieId\")\n",
    "    "
   ]
  },
  {
   "cell_type": "markdown",
   "id": "85b701a6-53d9-4225-86bc-a1f981a3b666",
   "metadata": {},
   "source": [
    "## Find distance between users"
   ]
  },
  {
   "cell_type": "markdown",
   "id": "60042e35-eaf1-4f05-be0d-d59fccead179",
   "metadata": {},
   "source": [
    "Here, we'll be using linear algebra to generalize the idea of the distance between two points into a more abstract sense. Pythagorean theorem tells us that the distance between two points can be found using the equation \n",
    "\n",
    "d(p1,p2) = sqrt((p1_x-p2_x)^2+(p1_y-p2_y)^2)\n",
    "\n",
    "Conceptually, the \"a\" and \"b\" legs of a right angle triangle are found by subtracting the x and y components of point 2 from the same components of point 1. Since \"a^2+b^2 = c^2\", where c is the hypotenuse (the straight line connecting the two points), finding the value of c will give us the straight-line distance between our points. That phrasing is inherently two dimensional, but we can easily abstract the idea to however many dimensions we want. Rather than hard-coding in the calculations, I'll be using the implementation in NumPy. "
   ]
  },
  {
   "cell_type": "code",
   "execution_count": 12,
   "id": "4b02973e-6039-4f9a-81ee-cd907b30e561",
   "metadata": {},
   "outputs": [],
   "source": [
    "def find_distance(id1,id2):\n",
    "    ratings1, ratings2 = find_user_ratings(id1), find_user_ratings(id2)\n",
    "    ratings_comparison = ratings1.join(ratings2, lsuffix=\"_1\",rsuffix=\"_2\").dropna() #This will give us a list of just movies both users have rated\n",
    "    ratings1_paired, ratings2_paired = ratings_comparison[\"rating_1\"], ratings_comparison[\"rating_2\"]\n",
    "    distance = np.linalg.norm(ratings1_paired-ratings2_paired)\n",
    "    return [id2,distance]"
   ]
  },
  {
   "cell_type": "markdown",
   "id": "9249642f-d447-4925-9ee6-cedc4b6e0d9b",
   "metadata": {},
   "source": [
    "## Find top similar users"
   ]
  },
  {
   "cell_type": "markdown",
   "id": "848d108a-b57a-4b37-b9cd-29bad04080f2",
   "metadata": {},
   "source": [
    "Using the function defined above, we can calculate the distance between a given user and every other user in the database, then return the top matches. We'll first define a function to find *every* distance."
   ]
  },
  {
   "cell_type": "code",
   "execution_count": 13,
   "id": "35ec4b71-1a8c-47d1-b597-8a36b12e8723",
   "metadata": {},
   "outputs": [],
   "source": [
    "def find_all_distances(userId):\n",
    "    users = ratings_df[\"userId\"].unique()\n",
    "    users = users[users != userId] # Don't want to compare against yourself\n",
    "    distances = [find_distance(userId, id) for id in users]\n",
    "    distance_df = pd.DataFrame(distances, columns = [\"OtherId\",\"distance\"])\n",
    "    distance_df = distance_df.sort_values(\"distance\")\n",
    "    distance_df = distance_df.set_index(\"OtherId\")\n",
    "    return distance_df"
   ]
  },
  {
   "cell_type": "code",
   "execution_count": 14,
   "id": "69da2c12-7fc5-4e64-9d5c-8d44cc086516",
   "metadata": {},
   "outputs": [],
   "source": [
    "def find_k_nearest_neighbors(userId, k=5):\n",
    "    distances = find_all_distances(userId).head(k)\n",
    "    return distances"
   ]
  },
  {
   "cell_type": "code",
   "execution_count": 15,
   "id": "f444d09b-d7cd-4264-8845-c7126e3724a3",
   "metadata": {},
   "outputs": [
    {
     "data": {
      "text/html": [
       "<div>\n",
       "<style scoped>\n",
       "    .dataframe tbody tr th:only-of-type {\n",
       "        vertical-align: middle;\n",
       "    }\n",
       "\n",
       "    .dataframe tbody tr th {\n",
       "        vertical-align: top;\n",
       "    }\n",
       "\n",
       "    .dataframe thead th {\n",
       "        text-align: right;\n",
       "    }\n",
       "</style>\n",
       "<table border=\"1\" class=\"dataframe\">\n",
       "  <thead>\n",
       "    <tr style=\"text-align: right;\">\n",
       "      <th></th>\n",
       "      <th>distance</th>\n",
       "    </tr>\n",
       "    <tr>\n",
       "      <th>OtherId</th>\n",
       "      <th></th>\n",
       "    </tr>\n",
       "  </thead>\n",
       "  <tbody>\n",
       "    <tr>\n",
       "      <th>306</th>\n",
       "      <td>0.0</td>\n",
       "    </tr>\n",
       "    <tr>\n",
       "      <th>578</th>\n",
       "      <td>0.0</td>\n",
       "    </tr>\n",
       "    <tr>\n",
       "      <th>556</th>\n",
       "      <td>0.0</td>\n",
       "    </tr>\n",
       "    <tr>\n",
       "      <th>77</th>\n",
       "      <td>0.0</td>\n",
       "    </tr>\n",
       "    <tr>\n",
       "      <th>85</th>\n",
       "      <td>0.0</td>\n",
       "    </tr>\n",
       "    <tr>\n",
       "      <th>175</th>\n",
       "      <td>0.0</td>\n",
       "    </tr>\n",
       "    <tr>\n",
       "      <th>253</th>\n",
       "      <td>0.0</td>\n",
       "    </tr>\n",
       "    <tr>\n",
       "      <th>291</th>\n",
       "      <td>0.0</td>\n",
       "    </tr>\n",
       "    <tr>\n",
       "      <th>506</th>\n",
       "      <td>0.0</td>\n",
       "    </tr>\n",
       "    <tr>\n",
       "      <th>496</th>\n",
       "      <td>0.0</td>\n",
       "    </tr>\n",
       "  </tbody>\n",
       "</table>\n",
       "</div>"
      ],
      "text/plain": [
       "         distance\n",
       "OtherId          \n",
       "306           0.0\n",
       "578           0.0\n",
       "556           0.0\n",
       "77            0.0\n",
       "85            0.0\n",
       "175           0.0\n",
       "253           0.0\n",
       "291           0.0\n",
       "506           0.0\n",
       "496           0.0"
      ]
     },
     "execution_count": 15,
     "metadata": {},
     "output_type": "execute_result"
    }
   ],
   "source": [
    "find_k_nearest_neighbors(1,10)"
   ]
  },
  {
   "cell_type": "markdown",
   "id": "d8644b67-a16e-4d00-9e94-7d53d97a8e6c",
   "metadata": {},
   "source": [
    "Thus we have a function which allows us to find the top K users with the most similar tastes."
   ]
  },
  {
   "cell_type": "markdown",
   "id": "0a3d582b-bde6-45fc-aaa8-817f98d71dc0",
   "metadata": {},
   "source": [
    "## Make Recommendation"
   ]
  },
  {
   "cell_type": "markdown",
   "id": "00dc63c1-61d0-456f-8f15-fabd3b532001",
   "metadata": {},
   "source": [
    "Finally, we recommend a selection of movies by finding the top similar users, then we find the average rating among similar users. We sort the results by the total number of ratings, considering the fact that the more ratings there are, the more certain we can be regarding the how the subject will feel about a particular film."
   ]
  },
  {
   "cell_type": "code",
   "execution_count": 57,
   "id": "da1d1b04-9191-4765-9a0f-016781cb2112",
   "metadata": {},
   "outputs": [],
   "source": [
    "def make_recommendation(userId):\n",
    "    neighbors = find_k_nearest_neighbors(userId)\n",
    "    ratings_by_index = ratings_df.set_index(\"userId\")\n",
    "    top_similar_ratings = ratings_by_index.loc[neighbors.index]\n",
    "    top_similar_ratings_average = top_similar_ratings.groupby(\"movieId\").mean()[[\"rating\"]]\n",
    "    recommended_movie = top_similar_ratings_average.sort_values(\"rating\",ascending=False)\n",
    "    #Drop movies user has already seen\n",
    "    seen_list = find_user_ratings(userId).index\n",
    "    for mov in seen_list:\n",
    "        if mov in recommended_movie.index:\n",
    "            recommended_movie.drop(index=mov,inplace=True)\n",
    "    return recommended_movie.join(movies_df).sort_values(\"ratingsCount\",ascending=False)"
   ]
  },
  {
   "cell_type": "code",
   "execution_count": 59,
   "id": "b5dfa0c7-75b1-4532-8e29-5eab688dd1d3",
   "metadata": {},
   "outputs": [
    {
     "data": {
      "text/html": [
       "<div>\n",
       "<style scoped>\n",
       "    .dataframe tbody tr th:only-of-type {\n",
       "        vertical-align: middle;\n",
       "    }\n",
       "\n",
       "    .dataframe tbody tr th {\n",
       "        vertical-align: top;\n",
       "    }\n",
       "\n",
       "    .dataframe thead th {\n",
       "        text-align: right;\n",
       "    }\n",
       "</style>\n",
       "<table border=\"1\" class=\"dataframe\">\n",
       "  <thead>\n",
       "    <tr style=\"text-align: right;\">\n",
       "      <th></th>\n",
       "      <th>rating</th>\n",
       "      <th>title</th>\n",
       "      <th>ratingsCount</th>\n",
       "      <th>averageRating</th>\n",
       "    </tr>\n",
       "    <tr>\n",
       "      <th>movieId</th>\n",
       "      <th></th>\n",
       "      <th></th>\n",
       "      <th></th>\n",
       "      <th></th>\n",
       "    </tr>\n",
       "  </thead>\n",
       "  <tbody>\n",
       "    <tr>\n",
       "      <th>4993</th>\n",
       "      <td>4.75</td>\n",
       "      <td>Lord of the Rings: The Fellowship of the Ring,...</td>\n",
       "      <td>198.0</td>\n",
       "      <td>4.106061</td>\n",
       "    </tr>\n",
       "    <tr>\n",
       "      <th>5952</th>\n",
       "      <td>4.50</td>\n",
       "      <td>Lord of the Rings: The Two Towers, The (2002)</td>\n",
       "      <td>188.0</td>\n",
       "      <td>4.021277</td>\n",
       "    </tr>\n",
       "    <tr>\n",
       "      <th>7153</th>\n",
       "      <td>4.50</td>\n",
       "      <td>Lord of the Rings: The Return of the King, The...</td>\n",
       "      <td>185.0</td>\n",
       "      <td>4.118919</td>\n",
       "    </tr>\n",
       "    <tr>\n",
       "      <th>588</th>\n",
       "      <td>5.00</td>\n",
       "      <td>Aladdin (1992)</td>\n",
       "      <td>183.0</td>\n",
       "      <td>3.792350</td>\n",
       "    </tr>\n",
       "    <tr>\n",
       "      <th>2762</th>\n",
       "      <td>3.00</td>\n",
       "      <td>Sixth Sense, The (1999)</td>\n",
       "      <td>179.0</td>\n",
       "      <td>3.893855</td>\n",
       "    </tr>\n",
       "    <tr>\n",
       "      <th>...</th>\n",
       "      <td>...</td>\n",
       "      <td>...</td>\n",
       "      <td>...</td>\n",
       "      <td>...</td>\n",
       "    </tr>\n",
       "    <tr>\n",
       "      <th>149334</th>\n",
       "      <td>3.00</td>\n",
       "      <td>Nocturnal Animals</td>\n",
       "      <td>1.0</td>\n",
       "      <td>3.000000</td>\n",
       "    </tr>\n",
       "    <tr>\n",
       "      <th>75446</th>\n",
       "      <td>2.50</td>\n",
       "      <td>Little Ashes (2008)</td>\n",
       "      <td>1.0</td>\n",
       "      <td>2.500000</td>\n",
       "    </tr>\n",
       "    <tr>\n",
       "      <th>158528</th>\n",
       "      <td>2.50</td>\n",
       "      <td>The Shallows (2016)</td>\n",
       "      <td>1.0</td>\n",
       "      <td>2.500000</td>\n",
       "    </tr>\n",
       "    <tr>\n",
       "      <th>1140</th>\n",
       "      <td>5.00</td>\n",
       "      <td>Entertaining Angels: The Dorothy Day Story (1996)</td>\n",
       "      <td>1.0</td>\n",
       "      <td>5.000000</td>\n",
       "    </tr>\n",
       "    <tr>\n",
       "      <th>6751</th>\n",
       "      <td>2.50</td>\n",
       "      <td>Cold Creek Manor (2003)</td>\n",
       "      <td>1.0</td>\n",
       "      <td>2.500000</td>\n",
       "    </tr>\n",
       "  </tbody>\n",
       "</table>\n",
       "<p>215 rows × 4 columns</p>\n",
       "</div>"
      ],
      "text/plain": [
       "         rating                                              title  \\\n",
       "movieId                                                              \n",
       "4993       4.75  Lord of the Rings: The Fellowship of the Ring,...   \n",
       "5952       4.50      Lord of the Rings: The Two Towers, The (2002)   \n",
       "7153       4.50  Lord of the Rings: The Return of the King, The...   \n",
       "588        5.00                                     Aladdin (1992)   \n",
       "2762       3.00                            Sixth Sense, The (1999)   \n",
       "...         ...                                                ...   \n",
       "149334     3.00                                  Nocturnal Animals   \n",
       "75446      2.50                                Little Ashes (2008)   \n",
       "158528     2.50                                The Shallows (2016)   \n",
       "1140       5.00  Entertaining Angels: The Dorothy Day Story (1996)   \n",
       "6751       2.50                            Cold Creek Manor (2003)   \n",
       "\n",
       "         ratingsCount  averageRating  \n",
       "movieId                               \n",
       "4993            198.0       4.106061  \n",
       "5952            188.0       4.021277  \n",
       "7153            185.0       4.118919  \n",
       "588             183.0       3.792350  \n",
       "2762            179.0       3.893855  \n",
       "...               ...            ...  \n",
       "149334            1.0       3.000000  \n",
       "75446             1.0       2.500000  \n",
       "158528            1.0       2.500000  \n",
       "1140              1.0       5.000000  \n",
       "6751              1.0       2.500000  \n",
       "\n",
       "[215 rows x 4 columns]"
      ]
     },
     "execution_count": 59,
     "metadata": {},
     "output_type": "execute_result"
    }
   ],
   "source": [
    "make_recommendation(1)"
   ]
  },
  {
   "cell_type": "markdown",
   "id": "ce93871d-579d-4698-9d21-a847ab3cc982",
   "metadata": {},
   "source": [
    "# Evaluation"
   ]
  },
  {
   "cell_type": "markdown",
   "id": "3b5d8abe-2c21-4d51-a5e3-45cca042f85d",
   "metadata": {},
   "source": [
    "In order to determine the effectiveness of the recommendation algorithm, we can find a user who has a rated a large number of films, then split their ratings into a training and test set. With this done, we may then generate a list of predicted ratings using the K-Nearest Neighbors. Computing the correlation between observed values and predicted values on a normal-normal distribution plot will allow us to quantify how well the user's tastes were modeled. (???)"
   ]
  },
  {
   "cell_type": "code",
   "execution_count": null,
   "id": "16ed64e5-f1a1-432f-89b5-6ca0b51c3144",
   "metadata": {},
   "outputs": [],
   "source": []
  }
 ],
 "metadata": {
  "kernelspec": {
   "display_name": "Python 3 (ipykernel)",
   "language": "python",
   "name": "python3"
  },
  "language_info": {
   "codemirror_mode": {
    "name": "ipython",
    "version": 3
   },
   "file_extension": ".py",
   "mimetype": "text/x-python",
   "name": "python",
   "nbconvert_exporter": "python",
   "pygments_lexer": "ipython3",
   "version": "3.11.5"
  }
 },
 "nbformat": 4,
 "nbformat_minor": 5
}
